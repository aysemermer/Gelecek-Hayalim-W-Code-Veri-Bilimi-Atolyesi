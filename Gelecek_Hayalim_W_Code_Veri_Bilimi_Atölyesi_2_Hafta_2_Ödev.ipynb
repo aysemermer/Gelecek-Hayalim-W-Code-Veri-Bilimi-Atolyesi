{
  "nbformat": 4,
  "nbformat_minor": 0,
  "metadata": {
    "colab": {
      "provenance": [],
      "authorship_tag": "ABX9TyOtQcWnAxHMca0EtqYFES7Q"
    },
    "kernelspec": {
      "name": "python3",
      "display_name": "Python 3"
    },
    "language_info": {
      "name": "python"
    }
  },
  "cells": [
    {
      "cell_type": "markdown",
      "source": [
        "Ödev 1: Aşağıdaki işlemleri indexing ve slicing kullanarak liste üzerinde uygulayın.\n",
        "\n",
        "liste = [\"Python\",True,9,\"3\",8.4,\"Hi-Kod\",\"False\",4.7]\n",
        "\n",
        "\"3\" değerine ulaşmak için indexleme yapın.\n",
        "\n",
        "\"Hi-Kod\" değerine ulaşmak için indexleme yapın.\n",
        "\n",
        "4.7 değerine ulaşmak için indexleme yapın.\n",
        "\n",
        "9,\"3\",8.4,\"Hi-Kod\" değerlerine ulaşmak için slicing yapın.\n",
        "\n",
        "8.4,\"Hi-Kod\",\"False\",4.7 değerlerine ulaşmak için slicing yapın."
      ],
      "metadata": {
        "id": "yoJsZBA4ksj4"
      }
    },
    {
      "cell_type": "code",
      "execution_count": 4,
      "metadata": {
        "colab": {
          "base_uri": "https://localhost:8080/"
        },
        "id": "Z1iGX-0FkaZk",
        "outputId": "5c525249-8dba-48be-a495-50f38bbd27e7"
      },
      "outputs": [
        {
          "output_type": "stream",
          "name": "stdout",
          "text": [
            "\"3\" değeri: 3\n",
            "\"Hi-Kod\" değeri: Hi-Kod\n",
            "4.7 değeri: 4.7\n",
            "9, \"3\", 8.4, \"Hi-Kod\" değerleri: [9, '3', 8.4, 'Hi-Kod']\n",
            "8.4, \"Hi-Kod\", \"False\", 4.7 değerleri: [8.4, 'Hi-Kod', 'False', 4.7]\n"
          ]
        }
      ],
      "source": [
        "liste = [\"Python\", True, 9, \"3\", 8.4, \"Hi-Kod\", \"False\", 4.7]\n",
        "\n",
        "deger_3 = liste[3]\n",
        "print('\"3\" değeri:', deger_3)\n",
        "\n",
        "deger_hi_kod = liste[5]\n",
        "print('\"Hi-Kod\" değeri:', deger_hi_kod)\n",
        "\n",
        "deger_47 = liste[7]\n",
        "print('4.7 değeri:', deger_47)\n",
        "\n",
        "degerslicing1 = liste[2:6]\n",
        "print('9, \"3\", 8.4, \"Hi-Kod\" değerleri:', degerslicing1)\n",
        "\n",
        "degerslicing2 = liste[4:]\n",
        "print('8.4, \"Hi-Kod\", \"False\", 4.7 değerleri:', degerslicing2)\n"
      ]
    },
    {
      "cell_type": "markdown",
      "source": [
        "Verilen listede bulunan string veri tipindeki öğeleri yeni_liste isimli listeye eklenir.\n",
        "\n",
        "liste = [\"Python\",True,9,\"3\",8.4,\"Hi-Kod\",\"False\",4.7]\n",
        "\n",
        "\n",
        "isinstance() fonksiyonunu kullandım. bu fonksiyon bir değişkenin türünün belirtilen olup olmadığını tespit etmeye yarar."
      ],
      "metadata": {
        "id": "rb7N-DkxlqBP"
      }
    },
    {
      "cell_type": "code",
      "source": [
        "liste = [\"Python\", True, 9, \"3\", 8.4, \"Hi-Kod\", \"False\", 4.7]\n",
        "\n",
        "yeni_liste = [eleman for eleman in liste if isinstance(eleman, str)]\n",
        "\n",
        "print(\"Yeni Liste:\", yeni_liste)\n"
      ],
      "metadata": {
        "colab": {
          "base_uri": "https://localhost:8080/"
        },
        "id": "b-hWb5Fdlq46",
        "outputId": "293384ef-dfd9-4295-b9b1-272131d90ba9"
      },
      "execution_count": 5,
      "outputs": [
        {
          "output_type": "stream",
          "name": "stdout",
          "text": [
            "Yeni Liste: ['Python', '3', 'Hi-Kod', 'False']\n"
          ]
        }
      ]
    },
    {
      "cell_type": "markdown",
      "source": [
        "Enumerate methodunu araştırın ve aşağıdaki örneği enumerate methodu ile yapın.\n",
        "\n",
        "\n",
        "for index in range(len(meyveler)):\n",
        "\n",
        " print(\"{}. indexte bulunan meyve: {}\".format(index,meyveler[index])"
      ],
      "metadata": {
        "id": "1K0KuefomSdp"
      }
    },
    {
      "cell_type": "code",
      "source": [
        "meyveler = [\"elma\", \"kivi\", \"muz\", \"ananas\", \"portakal\", \"çilek\", \"şeftali\"]\n",
        "\n",
        "for index, meyve in enumerate(meyveler):\n",
        "    print(\"{}. indexte bulunan meyve: {}\".format(index, meyve))\n"
      ],
      "metadata": {
        "colab": {
          "base_uri": "https://localhost:8080/"
        },
        "id": "icwJd0FgmTm1",
        "outputId": "ce916968-a61b-4bf0-c1ad-cdd8bbd0c596"
      },
      "execution_count": 7,
      "outputs": [
        {
          "output_type": "stream",
          "name": "stdout",
          "text": [
            "0. indexte bulunan meyve: elma\n",
            "1. indexte bulunan meyve: kivi\n",
            "2. indexte bulunan meyve: muz\n",
            "3. indexte bulunan meyve: ananas\n",
            "4. indexte bulunan meyve: portakal\n",
            "5. indexte bulunan meyve: çilek\n",
            "6. indexte bulunan meyve: şeftali\n"
          ]
        }
      ]
    }
  ]
}