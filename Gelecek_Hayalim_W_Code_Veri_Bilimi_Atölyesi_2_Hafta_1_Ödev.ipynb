{
  "nbformat": 4,
  "nbformat_minor": 0,
  "metadata": {
    "colab": {
      "provenance": [],
      "authorship_tag": "ABX9TyNXaUwQF8EkTnpGBfd4FkCF"
    },
    "kernelspec": {
      "name": "python3",
      "display_name": "Python 3"
    },
    "language_info": {
      "name": "python"
    }
  },
  "cells": [
    {
      "cell_type": "markdown",
      "source": [
        "Ödev 1: Kullanıcıdan pi değeri ve yarıçap bilgisi alarak dairenin alanını hesaplayan bir fonksiyon oluşturulur."
      ],
      "metadata": {
        "id": "HX_4uSR0f-0G"
      }
    },
    {
      "cell_type": "code",
      "execution_count": 1,
      "metadata": {
        "colab": {
          "base_uri": "https://localhost:8080/"
        },
        "id": "4rJXN_Lhf0AH",
        "outputId": "75dd706f-b4a3-4a5e-f62a-3cb0bd834ae7"
      },
      "outputs": [
        {
          "output_type": "stream",
          "name": "stdout",
          "text": [
            "Lütfenpi değerini giriniz: 3.14\n",
            "Lütfen yarıçapı giriniz: 5\n",
            "Dairenin alanı: 78.5\n"
          ]
        }
      ],
      "source": [
        "def dairenin_alani(pi_degeri, yaricap):\n",
        "    alan = pi_degeri * (yaricap ** 2)\n",
        "    return alan\n",
        "\n",
        "pi_degeri = float(input(\"Lütfenpi değerini giriniz: \"))\n",
        "yaricap = float(input(\"Lütfen yarıçapı giriniz: \"))\n",
        "alan = dairenin_alani(pi_degeri, yaricap)\n",
        "print(f\"Dairenin alanı: {alan}\")"
      ]
    },
    {
      "cell_type": "markdown",
      "source": [
        "Ödev 2: Faktöriyel adında fonksiyon oluşturulur. Döngü kullanarak parametre olarak girilen sayının faktöriyeli hesaplanır. Format metodunu kullanılarak ekrana yazdırılır."
      ],
      "metadata": {
        "id": "pQvuASg0gpql"
      }
    },
    {
      "cell_type": "code",
      "source": [
        "def faktoriyel(n):\n",
        "    sonuc = 1\n",
        "    for i in range(2, n + 1):\n",
        "        sonuc *= i\n",
        "    return sonuc\n",
        "\n",
        "sayi = int(input(\"Lütfen faktöriyelini hesaplamak istediğiniz 'pozitif' bir tam sayı giriniz: \"))\n",
        "\n",
        "#format methodu olmadan;\n",
        "print(f\"{sayi}! = {faktoriyel(sayi)}\")\n",
        "\n",
        "#format methodu ile;\n",
        "print(\"{}! = {}\".format(sayi, faktoriyel(sayi)))"
      ],
      "metadata": {
        "colab": {
          "base_uri": "https://localhost:8080/"
        },
        "id": "thFOluRmgs-B",
        "outputId": "7cea24db-5038-4164-c794-574f9bdea0fc"
      },
      "execution_count": 4,
      "outputs": [
        {
          "output_type": "stream",
          "name": "stdout",
          "text": [
            "Lütfen faktöriyelini hesaplamak istediğiniz 'pozitif' bir tam sayı giriniz: 3\n",
            "3! = 6\n",
            "3! = 6\n"
          ]
        }
      ]
    },
    {
      "cell_type": "markdown",
      "source": [
        "Ödev 3: Kişinin fonksiyona doğum yılını vererek kaç yaşında olduğunu hesaplayan bir fonksiyon oluşturun."
      ],
      "metadata": {
        "id": "0H8tAql-hjQU"
      }
    },
    {
      "cell_type": "code",
      "source": [
        "# Mevcut yılı 2024 olarak kabul ettim.\n",
        "def yas_hesapla(dogum_yili):\n",
        "    mevcut_yil = 2024\n",
        "    yas = mevcut_yil - dogum_yili\n",
        "    return yas\n",
        "\n",
        "dogum_yili = int(input(\"Lütfen doğum yılınızı girin: \"))\n",
        "\n",
        "print(f\"Yaşınız: {yas_hesapla(dogum_yili)}\")\n"
      ],
      "metadata": {
        "colab": {
          "base_uri": "https://localhost:8080/"
        },
        "id": "9xIqvfwOhne0",
        "outputId": "78ad157f-ac7b-4cca-a4a5-8bcd575d68ab"
      },
      "execution_count": 5,
      "outputs": [
        {
          "output_type": "stream",
          "name": "stdout",
          "text": [
            "Lütfen doğum yılınızı girin: 2000\n",
            "Yaşınız: 24\n"
          ]
        }
      ]
    },
    {
      "cell_type": "markdown",
      "source": [
        "Ödev 4: Doğum yılı ve isim bilgisi verilen fonksiyon kişinin emekli olup olmadığını söylesin.(Kişi 65 yaşında ise emekli olur.) Burada yaş hesabını yukarıdaki örnekteki fonksiyonu kullanarak yapsın.(Yani fonksiyon içinde fonksiyon kullanmanızı istiyorum :)) Kişi 65 yaşında ya da daha fazlaysa \"Emekli oldunuz\" yanıtını, 65 yaşından küçükse emekliliğine kaç yıl kaldığını da hesaplayarak \"(isim) emekliliğine (yıl) kaldı.\" yanıtını versin."
      ],
      "metadata": {
        "id": "1TZFlHrHhsmP"
      }
    },
    {
      "cell_type": "code",
      "source": [
        "def yas_hesapla(dogum_yili, mevcut_yil):\n",
        "    yas = mevcut_yil - dogum_yili\n",
        "    return yas\n",
        "\n",
        "\n",
        "def emeklilik_kontrolu(isim, dogum_yili, mevcut_yil):\n",
        "    yas = yas_hesapla(dogum_yili, mevcut_yil)\n",
        "    if yas >= 65:\n",
        "        return \"Emekli oldunuz.\"\n",
        "    else:\n",
        "        kalan_yil = 65 - yas\n",
        "        return f\"{isim} emekliliğine {kalan_yil} yıl kaldı.\"\n",
        "\n",
        "\n",
        "isim = input(\"Merhaba lütfen isminizi giriniz: \")\n",
        "dogum_yili = int(input(\"Lütfen doğum yılınızı giriniz: \"))\n",
        "mevcut_yil = int(input(\"Lütfen hangi yılda olduğunuzu giriniz: \"))  # Kullanıcıdan mevcut yılı aldım çünkü gelecekte hangi yılda emekli olabileceğimizide hesaplamak istedim :DD\n",
        "\n",
        "print(emeklilik_kontrolu(isim, dogum_yili, mevcut_yil))\n"
      ],
      "metadata": {
        "colab": {
          "base_uri": "https://localhost:8080/"
        },
        "id": "UCCJBRonhwLj",
        "outputId": "806c9f32-8689-436a-acc5-fd0d52a33a2c"
      },
      "execution_count": 8,
      "outputs": [
        {
          "output_type": "stream",
          "name": "stdout",
          "text": [
            "Merhaba lütfen isminizi giriniz: Derya\n",
            "Lütfen doğum yılınızı giriniz: 1978\n",
            "Lütfen hangi yılda olduğunuzu giriniz: 2025\n",
            "Derya emekliliğine 18 yıl kaldı.\n"
          ]
        }
      ]
    }
  ]
}