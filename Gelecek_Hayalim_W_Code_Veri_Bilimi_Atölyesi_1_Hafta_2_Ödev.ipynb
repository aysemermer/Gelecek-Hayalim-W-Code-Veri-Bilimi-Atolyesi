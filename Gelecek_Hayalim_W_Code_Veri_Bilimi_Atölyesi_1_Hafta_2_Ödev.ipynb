{
  "nbformat": 4,
  "nbformat_minor": 0,
  "metadata": {
    "colab": {
      "provenance": [],
      "authorship_tag": "ABX9TyNVgEM57o3z4IyfYlyKG096"
    },
    "kernelspec": {
      "name": "python3",
      "display_name": "Python 3"
    },
    "language_info": {
      "name": "python"
    }
  },
  "cells": [
    {
      "cell_type": "markdown",
      "source": [
        "Ödev-1: Kullanıcıdan maaş bilgisini istenir ve bu bilgiye göre maaşından ne kadar vergi kesileceğini hesaplanır. Kullanıcının geliri;\n",
        "\n",
        "\n",
        " 1. 10000 ve altındaysa maaşından %5 kesinti olur.\n",
        " 2. 25000 ve altındaysa maaşından %10 kesinti olur.\n",
        " 3. 45000 ve altındaysa maaşından %25 kesinti olur.\n",
        " 4. Diğer koşullarda %30 kesinti olur.\n",
        "\n",
        "Bu durumlara göre kullanıcının yeni maaşı yazdırılır."
      ],
      "metadata": {
        "id": "q8O0wvklah4-"
      }
    },
    {
      "cell_type": "code",
      "execution_count": 6,
      "metadata": {
        "colab": {
          "base_uri": "https://localhost:8080/"
        },
        "id": "p5m0_C26aB-V",
        "outputId": "6e804c93-c536-4ab1-ed9e-28fb464b8ba2"
      },
      "outputs": [
        {
          "output_type": "stream",
          "name": "stdout",
          "text": [
            "Lütfen maaşınızı girin: 28000\n",
            "Alınacak olan vergi kesintisi: 7000.0\n",
            "Kesinti sonrası yeni maaşınız: 21000.0\n"
          ]
        }
      ],
      "source": [
        "maas = int(input(\"Lütfen maaşınızı girin: \"))\n",
        "\n",
        "if maas <= 10000:\n",
        "    vergi_orani = 0.05\n",
        "elif maas <= 25000:\n",
        "    vergi_orani = 0.10\n",
        "elif maas <= 45000:\n",
        "    vergi_orani = 0.25\n",
        "else:\n",
        "    vergi_orani = 0.30\n",
        "\n",
        "vergi_kesintisi = maas * vergi_orani\n",
        "yeni_maas = maas - vergi_kesintisi\n",
        "\n",
        "print(\"Alınacak olan vergi kesintisi:\", vergi_kesintisi)\n",
        "print(\"Kesinti sonrası yeni maaşınız:\", yeni_maas)"
      ]
    },
    {
      "cell_type": "markdown",
      "source": [
        "Ödev-2: Kullanıcıdan kullanıcı adı ve şifre oluşturmasını istenir. Şifrenin uzunluğu altı haneye ulaşmışsa hesabınız oluşturuldu mesajı alınır, altı haneden azsa altı haneli şifre oluşturması gerektiğinin mesajı alınır. (Sadece koşul kullanılması yeterli.)"
      ],
      "metadata": {
        "id": "jnBhey5DbNWU"
      }
    },
    {
      "cell_type": "code",
      "source": [
        "kullanici_adi = input(\"Lütfen kullanıcı adınızı girin: \")\n",
        "sifre = input(\"Lütfen şifrenizi oluşturun: \")\n",
        "\n",
        "if len(sifre) >= 6:\n",
        "    print(\"Hesabınız başarılı bir şekilde oluşturuldu, giriş yapabilirsiniz.\")\n",
        "else:\n",
        "    print(\"!! HATA !! Şifreniz en az 6 haneli olmalıdır!!\")"
      ],
      "metadata": {
        "colab": {
          "base_uri": "https://localhost:8080/"
        },
        "id": "0KEWReuMbOQT",
        "outputId": "c9214b18-2f8a-4826-f7d9-9be1a8cfdce6"
      },
      "execution_count": 8,
      "outputs": [
        {
          "output_type": "stream",
          "name": "stdout",
          "text": [
            "Lütfen kullanıcı adınızı girin: deneme06\n",
            "Lütfen şifrenizi oluşturun: 1234\n",
            "!! HATA !! Şifreniz en az 6 haneli olmalıdır!!\n"
          ]
        }
      ]
    },
    {
      "cell_type": "markdown",
      "source": [
        "Ödev-3: Ödev-2 geliştirilir\n",
        "\n",
        " 1. Kullanıcı girdiği şifre 5 ve 10 hane arasında olmak zorunda.\n",
        " 2. Eğer bu koşula uyuyorsa \"Hesabınız oluşturuldu.\" mesajı alır.\n",
        " 3. Koşulu sağlamıyorsa \"Lütfen girdiniz şifre 5 haneden az 10 haneden fazla olmasın!\" uyarısı alır.\n",
        " 4. Bunu oluştururken kullanıcı istediğimiz şartlarda şifre oluşturana kadar sormaya devam eder\n"
      ],
      "metadata": {
        "id": "lxmM-7m7cOAx"
      }
    },
    {
      "cell_type": "code",
      "source": [
        "kullanici_adi = input(\"Lütfen kullanıcı adınızı girin: \")\n",
        "\n",
        "while True:\n",
        "    sifre = input(\"Şifrenizi oluşturun (Şifreniz 5-10 hane arasında olmalıdır): \")\n",
        "\n",
        "\n",
        "    if 5 <= len(sifre) <= 10:\n",
        "        print(\"Hesabınız başarılı bir şekilde oluşturuldu.\")\n",
        "        break\n",
        "\n",
        "    else:\n",
        "        print(\"Lütfen kontrol ediniz. Şifreniz 5-10 hane arasında olmalıdır!\")"
      ],
      "metadata": {
        "colab": {
          "base_uri": "https://localhost:8080/"
        },
        "id": "F85ozBnMcNhK",
        "outputId": "d2a41fd4-6fa6-4e03-ec78-ff0800de5fb7"
      },
      "execution_count": 20,
      "outputs": [
        {
          "output_type": "stream",
          "name": "stdout",
          "text": [
            "Lütfen kullanıcı adınızı girin: ayse\n",
            "Şifrenizi oluşturun (Şifreniz 5-10 hane arasında olmalıdır): 0123\n",
            "Lütfen kontrol ediniz. Şifreniz 5-10 hane arasında olmalıdır!\n",
            "Şifrenizi oluşturun (Şifreniz 5-10 hane arasında olmalıdır): 01234\n",
            "Hesabınız başarılı bir şekilde oluşturuldu.\n"
          ]
        }
      ]
    },
    {
      "cell_type": "markdown",
      "source": [
        "Ödev-4: Kullanıcıdan isim ve şifre isteyeceğiz ve şifre girişi için üç hak verilir.\n",
        "\n",
        "\n",
        " 1. Eğer önceden tanımlı şifre ile kullanıcıdan gelen şifre aynıysa \"Giriş yapıldı.\" yazar.\n",
        " 2. Şifre girişi yanlışsa \"Yanlış şifre girildi!\" uyarısı verilsin ve üç yanlış denemede program biter.\n",
        " 3. Kalan hak bilgisi verilir."
      ],
      "metadata": {
        "id": "W8tVgIoMdeUp"
      }
    },
    {
      "cell_type": "code",
      "source": [
        "true_sifre = \"123456\"\n",
        "kullanici_adi = input(\"Lütfen kullanıcı adınızı girin: \")\n",
        "hak = 3\n",
        "while hak > 0:\n",
        "    sifre = input(\"Lütfen şifrenizi girin: \")\n",
        "\n",
        "    if sifre == true_sifre:\n",
        "        print(\"Giriş yapıldı.\")\n",
        "        break\n",
        "    else:\n",
        "        hak -= 1\n",
        "        print(\"Şifre yanlış, tekrar deneyiniz!\")\n",
        "        print(f\"Kalan hak: {hak}\")\n",
        "\n",
        "if hak == 0:\n",
        "    print(\"Üç deneme hakkınız dolmuştur.\")"
      ],
      "metadata": {
        "colab": {
          "base_uri": "https://localhost:8080/"
        },
        "id": "_TqMAvo-dm9k",
        "outputId": "5082c38d-c771-47aa-ada7-97f4b4cfd76c"
      },
      "execution_count": 19,
      "outputs": [
        {
          "output_type": "stream",
          "name": "stdout",
          "text": [
            "Lütfen kullanıcı adınızı girin: ayse\n",
            "Lütfen şifrenizi girin: 012365\n",
            "Şifre yanlış, tekrar deneyiniz!\n",
            "Kalan hak: 2\n",
            "Lütfen şifrenizi girin: 789654\n",
            "Şifre yanlış, tekrar deneyiniz!\n",
            "Kalan hak: 1\n",
            "Lütfen şifrenizi girin: 741852963\n",
            "Şifre yanlış, tekrar deneyiniz!\n",
            "Kalan hak: 0\n",
            "Üç deneme hakkınız dolmuştur.\n"
          ]
        }
      ]
    }
  ]
}