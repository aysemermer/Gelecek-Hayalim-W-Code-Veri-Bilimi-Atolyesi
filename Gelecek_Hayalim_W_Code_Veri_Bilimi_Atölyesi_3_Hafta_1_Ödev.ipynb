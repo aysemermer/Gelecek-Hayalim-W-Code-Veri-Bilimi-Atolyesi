{
  "nbformat": 4,
  "nbformat_minor": 0,
  "metadata": {
    "colab": {
      "provenance": [],
      "authorship_tag": "ABX9TyP4PEg7V9aukyq+sbNchf2X"
    },
    "kernelspec": {
      "name": "python3",
      "display_name": "Python 3"
    },
    "language_info": {
      "name": "python"
    }
  },
  "cells": [
    {
      "cell_type": "markdown",
      "source": [
        "**Ödev**\n",
        "\n",
        "Bir sözlük oluşturulur ve bu sözlükte öğrencilerin isimleri ve Matematik, Fizik, Kimya notları tutulur. Kullanıcıdan isim ve ders ismi(Matematik, Fizik, Kimya) istenir ve bu bilgilere göre çıktı verilir.\n",
        "\n",
        "Sözlük üzerinde değerleri değiştirme, yeni değer ekleme, kullanıcıya ulaşmak istediği bilgileri sorma gibi uygulamalar yapın."
      ],
      "metadata": {
        "id": "px1oXeqgnd3g"
      }
    },
    {
      "cell_type": "code",
      "source": [
        "notlar = {\n",
        "    \"Barış\": {\"Matematik\": 50, \"Fizik\": 58, \"Kimya\": 70},\n",
        "    \"Ayşe\": {\"Matematik\": 90, \"Fizik\": 80, \"Kimya\": 95},\n",
        "    \"Kerem\": {\"Matematik\": 96, \"Fizik\": 82, \"Kimya\": 60},\n",
        "    \"Aslı\": {\"Matematik\": 88, \"Fizik\": 84, \"Kimya\": 100},\n",
        "}\n",
        "\n",
        "isim = input(\"Öğrenci ismini giriniz: \")\n",
        "ders = input(\"Ders ismini giriniz (Matematik, Fizik, Kimya): \")\n",
        "\n",
        "if isim in notlar and ders in notlar[isim]:\n",
        "    print(\"{}'nin {} dersine ait notu: {}\".format(isim, ders, notlar[isim][ders]))\n",
        "else:\n",
        "    print(\"Girilen öğrenci veya ders bulunamadı.\")\n"
      ],
      "metadata": {
        "colab": {
          "base_uri": "https://localhost:8080/"
        },
        "id": "UH-5wknInhpL",
        "outputId": "1b09c1a6-44e4-4217-87ed-4f70abdca424"
      },
      "execution_count": 16,
      "outputs": [
        {
          "output_type": "stream",
          "name": "stdout",
          "text": [
            "Öğrenci ismini giriniz: Barış\n",
            "Ders ismini giriniz (Matematik, Fizik, Kimya): Fizik\n",
            "Barış'nin Fizik dersine ait notu: 58\n"
          ]
        }
      ]
    },
    {
      "cell_type": "code",
      "source": [
        "#Not Güncellemek;\n",
        "if input(\"Not güncellemek mi istersiniz? (Y/N): \").lower() == \"y\":\n",
        "    yeni_not = int(input(\"Yeni notu giriniz: \"))\n",
        "    notlar[isim][ders] = yeni_not\n",
        "    print(f\"{isim}'nin {ders} notu güncellendi: {yeni_not}\")\n",
        "\n",
        "print(\"\\nTüm Öğrenciler ve Notları:\")\n",
        "for ogrenci in notlar:\n",
        "    print(ogrenci, notlar[ogrenci])"
      ],
      "metadata": {
        "colab": {
          "base_uri": "https://localhost:8080/"
        },
        "id": "vd-QoYfan4R7",
        "outputId": "b6eff26e-5ffd-4c54-cb56-715ceeaa621c"
      },
      "execution_count": 18,
      "outputs": [
        {
          "output_type": "stream",
          "name": "stdout",
          "text": [
            "Not güncellemek mi istersiniz? (Y/N): y\n",
            "Yeni notu giriniz: 78\n",
            "Barış'nin Fizik notu güncellendi: 78\n",
            "\n",
            "Tüm Öğrenciler ve Notları:\n",
            "Barış {'Matematik': 50, 'Fizik': 78, 'Kimya': 70}\n",
            "Ayşe {'Matematik': 90, 'Fizik': 80, 'Kimya': 95}\n",
            "Kerem {'Matematik': 96, 'Fizik': 82, 'Kimya': 60}\n",
            "Aslı {'Matematik': 88, 'Fizik': 84, 'Kimya': 100}\n"
          ]
        }
      ]
    },
    {
      "cell_type": "code",
      "source": [
        "#Yeni Öğrenci Eklemek;\n",
        "if input(\"Yeni öğrenci eklemek mi istersiniz? (Y/N): \").lower() == \"y\":\n",
        "    yeni_ogrenci = input(\"Yeni öğrencinin ismini giriniz: \")\n",
        "    notlar[yeni_ogrenci] = {}\n",
        "    for ders in [\"Matematik\", \"Fizik\", \"Kimya\"]:\n",
        "        yeni_not = int(input(f\"{yeni_ogrenci}'nin {ders} notunu giriniz: \"))\n",
        "        notlar[yeni_ogrenci][ders] = yeni_not\n",
        "    print(f\"Yeni öğrencimiz {yeni_ogrenci} başarıyla eklendi!\")\n",
        "\n",
        "    print(\"\\nTüm Öğrenciler ve Notları:\")\n",
        "for ogrenci in notlar:\n",
        "    print(ogrenci, notlar[ogrenci])"
      ],
      "metadata": {
        "colab": {
          "base_uri": "https://localhost:8080/"
        },
        "id": "gR6q9c6kpWCN",
        "outputId": "95ce016a-74d8-4978-d8b0-cdb413c2b3f9"
      },
      "execution_count": 20,
      "outputs": [
        {
          "output_type": "stream",
          "name": "stdout",
          "text": [
            "Yeni öğrenci eklemek mi istersiniz? (Y/N): y\n",
            "Yeni öğrencinin ismini giriniz: Merve\n",
            "Merve'nin Matematik notunu giriniz: 98\n",
            "Merve'nin Fizik notunu giriniz: 78\n",
            "Merve'nin Kimya notunu giriniz: 80\n",
            "Yeni öğrencimiz Merve başarıyla eklendi!\n",
            "\n",
            "Tüm Öğrenciler ve Notları:\n",
            "Barış {'Matematik': 50, 'Fizik': 78, 'Kimya': 70}\n",
            "Ayşe {'Matematik': 90, 'Fizik': 80, 'Kimya': 95}\n",
            "Kerem {'Matematik': 96, 'Fizik': 82, 'Kimya': 60}\n",
            "Aslı {'Matematik': 88, 'Fizik': 84, 'Kimya': 100}\n",
            "Merve {'Matematik': 98, 'Fizik': 78, 'Kimya': 80}\n"
          ]
        }
      ]
    },
    {
      "cell_type": "code",
      "source": [
        "#Öğrenci Silmek;\n",
        "if input(\"Öğrenci silmek mi istersiniz? (Y/N): \").lower() == \"y\":\n",
        "    silinecek_ogrenci = input(\"Silinecek öğrencinin ismini giriniz: \")\n",
        "    if silinecek_ogrenci in notlar:\n",
        "        del notlar[silinecek_ogrenci]\n",
        "        print(f\"{silinecek_ogrenci} başarıyla silindi!\")\n",
        "    else:\n",
        "        print(f\"{silinecek_ogrenci} isimli öğrenci bulunamadı.\")\n",
        "\n",
        "\n",
        "print(\"\\nTüm Öğrenciler ve Notları:\")\n",
        "for ogrenci in notlar:\n",
        "    print(ogrenci, notlar[ogrenci])"
      ],
      "metadata": {
        "colab": {
          "base_uri": "https://localhost:8080/"
        },
        "id": "0nXWsDZaqYYR",
        "outputId": "b0dae880-6ccd-4da4-e374-fc76164b4380"
      },
      "execution_count": 21,
      "outputs": [
        {
          "output_type": "stream",
          "name": "stdout",
          "text": [
            "Öğrenci silmek mi istersiniz? (Y/N): Y\n",
            "Silinecek öğrencinin ismini giriniz: Aslı\n",
            "Aslı başarıyla silindi!\n",
            "\n",
            "Tüm Öğrenciler ve Notları:\n",
            "Barış {'Matematik': 50, 'Fizik': 78, 'Kimya': 70}\n",
            "Ayşe {'Matematik': 90, 'Fizik': 80, 'Kimya': 95}\n",
            "Kerem {'Matematik': 96, 'Fizik': 82, 'Kimya': 60}\n",
            "Merve {'Matematik': 98, 'Fizik': 78, 'Kimya': 80}\n"
          ]
        }
      ]
    }
  ]
}