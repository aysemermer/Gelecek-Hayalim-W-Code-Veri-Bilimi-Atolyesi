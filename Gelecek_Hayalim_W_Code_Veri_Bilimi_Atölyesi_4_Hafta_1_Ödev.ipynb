{
  "nbformat": 4,
  "nbformat_minor": 0,
  "metadata": {
    "colab": {
      "provenance": [],
      "authorship_tag": "ABX9TyNP6bWCTW8fx2pdXDTlDkUC"
    },
    "kernelspec": {
      "name": "python3",
      "display_name": "Python 3"
    },
    "language_info": {
      "name": "python"
    }
  },
  "cells": [
    {
      "cell_type": "markdown",
      "source": [
        "sozluk = {\"Kategori\": [\"Giyim\",\"Giyim\", \"Ayakkabı\",\"Aksesuar\",\"Ayakkabı\",\"Giyim\",\"Aksesuar\",\"Aksesuar\",\"Ayakkabı\",\"Giyim\"],\n",
        "\n",
        "\n",
        "  \"Ürün\" : [\"Kazak\",\"T-shirt\",\"Sandalet\",\"Küpe\",\"Spor Ayakkabı\",\"Pantolon\",\"Kolye\",\"Yüzük\",\"Çizme\",\"Ceket\"],\n",
        "\n",
        "\n",
        "\"Fiyat\" : [300,180,450,50,700,400,150,80,850,900]}\n",
        "\n",
        "**ödev 1**:\n",
        "1. Yukarıdaki sözlük DataFrame’e dönüştürülür.\n",
        "\n",
        "**ödev 2**: Yukarıdaki DataFrame için  \n",
        "\n",
        " 1. 2. indexte bulunan kategori bulunur. (Sadece kategori bilgisi)\n",
        " 2. 2. indexte bulunan ürün bulunur. (Sadece ürün bilgisi)\n",
        " 3. 4.indexten 9.indexe kadar olan veriler bulunur. (Kategori,ürün,fiyat bilgisi beraber)\n",
        " 4. 1.indexten 6.indexe kadar olan ürünler bulunur. (Sadece ürün bilgisi)\n",
        "\n",
        "**ödev 3**:  Yukarıdaki DataFrame için\n",
        "\n",
        " 1. Giyim kategorisinde bulunan ürünler gösterilir.\n",
        " 2. Ayakkabı kategorisinde bulunan ürünler gösterilir.\n",
        " 3. Aksesuar kategorisinde bulunan ürünler gösterilir.\n",
        "\n",
        "**ödev 4**: Yukarıdaki DataFrame için\n",
        "\n",
        " 1. Giyim kategorisinde fiyatı 300'den fazla olan ürünler gösterilir.\n",
        " 2. Ayakkabı kategorisinde fiyatı 600'den az olan ürünler gösterilir.\n",
        " 3. Aksesuar kategorisinde fiyatı 100'den fazla olan aksesuar gösterilir."
      ],
      "metadata": {
        "id": "eMzrAZ8d8EYN"
      }
    },
    {
      "cell_type": "markdown",
      "source": [
        "Ödev 1;"
      ],
      "metadata": {
        "id": "w1USPdCB9Adk"
      }
    },
    {
      "cell_type": "code",
      "source": [
        "import pandas as pd"
      ],
      "metadata": {
        "id": "d8k_1K4K81yK"
      },
      "execution_count": 1,
      "outputs": []
    },
    {
      "cell_type": "code",
      "source": [
        "sozluk = {\n",
        "    \"Kategori\": [\"Giyim\", \"Giyim\", \"Ayakkabı\", \"Aksesuar\", \"Ayakkabı\", \"Giyim\", \"Aksesuar\", \"Aksesuar\", \"Ayakkabı\", \"Giyim\"],\n",
        "    \"Ürün\": [\"Kazak\", \"T-shirt\", \"Sandalet\", \"Küpe\", \"Spor Ayakkabı\", \"Pantolon\", \"Kolye\", \"Yüzük\", \"Çizme\", \"Ceket\"],\n",
        "    \"Fiyat\": [300, 180, 450, 50, 700, 400, 150, 80, 850, 900]\n",
        "}\n",
        "\n",
        "df = pd.DataFrame(sozluk)\n",
        "print(\"DataFrame:\\n\", df)\n"
      ],
      "metadata": {
        "colab": {
          "base_uri": "https://localhost:8080/"
        },
        "id": "vOygFVuM9FeI",
        "outputId": "0b594b55-6de5-4c3e-c1af-8f164d530e9f"
      },
      "execution_count": 2,
      "outputs": [
        {
          "output_type": "stream",
          "name": "stdout",
          "text": [
            "DataFrame:\n",
            "    Kategori           Ürün  Fiyat\n",
            "0     Giyim          Kazak    300\n",
            "1     Giyim        T-shirt    180\n",
            "2  Ayakkabı       Sandalet    450\n",
            "3  Aksesuar           Küpe     50\n",
            "4  Ayakkabı  Spor Ayakkabı    700\n",
            "5     Giyim       Pantolon    400\n",
            "6  Aksesuar          Kolye    150\n",
            "7  Aksesuar          Yüzük     80\n",
            "8  Ayakkabı          Çizme    850\n",
            "9     Giyim          Ceket    900\n"
          ]
        }
      ]
    },
    {
      "cell_type": "markdown",
      "source": [
        "Ödev 2;\n"
      ],
      "metadata": {
        "id": "-yoNJLBt9JcT"
      }
    },
    {
      "cell_type": "code",
      "source": [
        "#2. indexte bulunan kategorinin bulunması\n",
        "\n",
        "kategori_2 = df.loc[2, \"Kategori\"]\n",
        "print(\"\\n2. indexte bulunan kategori:\", kategori_2)"
      ],
      "metadata": {
        "colab": {
          "base_uri": "https://localhost:8080/"
        },
        "id": "1I9EF8oQ9LII",
        "outputId": "a6ffcb5d-0ea9-4e1d-f38c-de7838bf85cc"
      },
      "execution_count": 3,
      "outputs": [
        {
          "output_type": "stream",
          "name": "stdout",
          "text": [
            "\n",
            "2. indexte bulunan kategori: Ayakkabı\n"
          ]
        }
      ]
    },
    {
      "cell_type": "code",
      "source": [
        "# 2. indexte bulunan ürünün bulunması\n",
        "\n",
        "urun_2 = df.loc[2, \"Ürün\"]\n",
        "print(\"2. indexte bulunan ürün:\", urun_2)"
      ],
      "metadata": {
        "colab": {
          "base_uri": "https://localhost:8080/"
        },
        "id": "rD0kvtFc9VRr",
        "outputId": "3d0963f6-3586-4dcb-e263-7ed093ab1c9e"
      },
      "execution_count": 4,
      "outputs": [
        {
          "output_type": "stream",
          "name": "stdout",
          "text": [
            "2. indexte bulunan ürün: Sandalet\n"
          ]
        }
      ]
    },
    {
      "cell_type": "code",
      "source": [
        "#4. indexten 9. indexe kadar olan veriler\n",
        "\n",
        "veriler_4_9 = df.loc[4:9]\n",
        "print(\"\\n4. indexten 9. indexe kadar olan veriler:\\n\", veriler_4_9)"
      ],
      "metadata": {
        "colab": {
          "base_uri": "https://localhost:8080/"
        },
        "id": "U5KMjI6F9caD",
        "outputId": "8ea5bcbb-ce97-4748-9406-f36fea3a0dc9"
      },
      "execution_count": 14,
      "outputs": [
        {
          "output_type": "stream",
          "name": "stdout",
          "text": [
            "\n",
            "4. indexten 9. indexe kadar olan veriler:\n",
            "    Kategori           Ürün  Fiyat\n",
            "4  Ayakkabı  Spor Ayakkabı    700\n",
            "5     Giyim       Pantolon    400\n",
            "6  Aksesuar          Kolye    150\n",
            "7  Aksesuar          Yüzük     80\n",
            "8  Ayakkabı          Çizme    850\n",
            "9     Giyim          Ceket    900\n"
          ]
        }
      ]
    },
    {
      "cell_type": "code",
      "source": [
        "# 1. indexten 6. indexe kadar olan ürünler\n",
        "\n",
        "urunler_1_6 = df.loc[1:6, \"Ürün\"]\n",
        "print(\"\\n1. indexten 6. indexe kadar olan ürünler:\\n\", urunler_1_6)"
      ],
      "metadata": {
        "colab": {
          "base_uri": "https://localhost:8080/"
        },
        "id": "2E-D0Xo89hCz",
        "outputId": "d1361411-bb9e-4a5c-a926-10f7ac0f9c61"
      },
      "execution_count": 6,
      "outputs": [
        {
          "output_type": "stream",
          "name": "stdout",
          "text": [
            "\n",
            "1. indexten 6. indexe kadar olan ürünler:\n",
            " 1          T-shirt\n",
            "2         Sandalet\n",
            "3             Küpe\n",
            "4    Spor Ayakkabı\n",
            "5         Pantolon\n",
            "6            Kolye\n",
            "Name: Ürün, dtype: object\n"
          ]
        }
      ]
    },
    {
      "cell_type": "markdown",
      "source": [
        "Ödev 3;"
      ],
      "metadata": {
        "id": "hH1jJO-i9qf8"
      }
    },
    {
      "cell_type": "code",
      "source": [
        "# Giyim kategorisindeki ürünler\n",
        "giyim= df[df[\"Kategori\"] == \"Giyim\"]\n",
        "print(\"\\nGiyim kategorisinde bulunan ürünler:\\n\", giyim)\n"
      ],
      "metadata": {
        "colab": {
          "base_uri": "https://localhost:8080/"
        },
        "id": "0vY4MzzQ9s4E",
        "outputId": "18f04d94-b4bc-45d3-f14e-1495e927f968"
      },
      "execution_count": 15,
      "outputs": [
        {
          "output_type": "stream",
          "name": "stdout",
          "text": [
            "\n",
            "Giyim kategorisinde bulunan ürünler:\n",
            "   Kategori      Ürün  Fiyat\n",
            "0    Giyim     Kazak    300\n",
            "1    Giyim   T-shirt    180\n",
            "5    Giyim  Pantolon    400\n",
            "9    Giyim     Ceket    900\n"
          ]
        }
      ]
    },
    {
      "cell_type": "code",
      "source": [
        "# Ayakkabı kategorisindeki ürünler\n",
        "ayakkabi = df[df[\"Kategori\"] == \"Ayakkabı\"]\n",
        "print(\"\\nAyakkabı kategorisinde bulunan ürünler:\\n\", ayakkabi)"
      ],
      "metadata": {
        "colab": {
          "base_uri": "https://localhost:8080/"
        },
        "id": "UiY_paFm90tD",
        "outputId": "92f2400c-edbf-4966-8786-9ad0d283ccac"
      },
      "execution_count": 16,
      "outputs": [
        {
          "output_type": "stream",
          "name": "stdout",
          "text": [
            "\n",
            "Ayakkabı kategorisinde bulunan ürünler:\n",
            "    Kategori           Ürün  Fiyat\n",
            "2  Ayakkabı       Sandalet    450\n",
            "4  Ayakkabı  Spor Ayakkabı    700\n",
            "8  Ayakkabı          Çizme    850\n"
          ]
        }
      ]
    },
    {
      "cell_type": "code",
      "source": [
        "# Aksesuar kategorisindeki ürünler\n",
        "aksesuar = df[df[\"Kategori\"] == \"Aksesuar\"]\n",
        "print(\"\\nAksesuar kategorisinde bulunan ürünler:\\n\", aksesuar)"
      ],
      "metadata": {
        "colab": {
          "base_uri": "https://localhost:8080/"
        },
        "id": "3YVZm4ek96jN",
        "outputId": "cf77d9b5-0dd9-4888-be35-4ebdf933fb67"
      },
      "execution_count": 17,
      "outputs": [
        {
          "output_type": "stream",
          "name": "stdout",
          "text": [
            "\n",
            "Aksesuar kategorisinde bulunan ürünler:\n",
            "    Kategori   Ürün  Fiyat\n",
            "3  Aksesuar   Küpe     50\n",
            "6  Aksesuar  Kolye    150\n",
            "7  Aksesuar  Yüzük     80\n"
          ]
        }
      ]
    },
    {
      "cell_type": "markdown",
      "source": [
        "Ödev 4;"
      ],
      "metadata": {
        "id": "KgbROxhz-AMa"
      }
    },
    {
      "cell_type": "code",
      "source": [
        "#Giyim kategorisinde fiyatı 300'den fazla olan ürünler\n",
        "giyim_300 = giyim[giyim[\"Fiyat\"] > 300]\n",
        "print(\"\\nGiyim kategorisinde fiyatı 300'den fazla olan ürünler:\\n\", giyim_300)\n"
      ],
      "metadata": {
        "colab": {
          "base_uri": "https://localhost:8080/"
        },
        "id": "qrSN6gOe-BxO",
        "outputId": "61fe5a88-0701-4277-c961-dc3f9cdef637"
      },
      "execution_count": 21,
      "outputs": [
        {
          "output_type": "stream",
          "name": "stdout",
          "text": [
            "\n",
            "Giyim kategorisinde fiyatı 300'den fazla olan ürünler:\n",
            "   Kategori      Ürün  Fiyat\n",
            "5    Giyim  Pantolon    400\n",
            "9    Giyim     Ceket    900\n"
          ]
        }
      ]
    },
    {
      "cell_type": "code",
      "source": [
        "#Ayakkabı kategorisinde fiyatı 600'den az olan ürünler\n",
        "ayakkabi_600 = ayakkabi[ayakkabi[\"Fiyat\"] < 600]\n",
        "print(\"\\nAyakkabı kategorisinde fiyatı 600'den az olan ürünler:\\n\", ayakkabi_600)\n"
      ],
      "metadata": {
        "colab": {
          "base_uri": "https://localhost:8080/"
        },
        "id": "fHosiH7B-IbB",
        "outputId": "a301a9a2-6892-49c8-d043-29ffadf812ce"
      },
      "execution_count": 24,
      "outputs": [
        {
          "output_type": "stream",
          "name": "stdout",
          "text": [
            "\n",
            "Ayakkabı kategorisinde fiyatı 600'den az olan ürünler:\n",
            "    Kategori      Ürün  Fiyat\n",
            "2  Ayakkabı  Sandalet    450\n"
          ]
        }
      ]
    },
    {
      "cell_type": "code",
      "source": [
        "#Aksesuar kategorisinde fiyatı 100'den fazla olan aksesuarlar\n",
        "aksesuar_100 = aksesuar[aksesuar[\"Fiyat\"] > 100]\n",
        "print(\"\\nAksesuar kategorisinde fiyatı 100'den fazla olan aksesuarlar:\\n\", aksesuar_100)\n"
      ],
      "metadata": {
        "colab": {
          "base_uri": "https://localhost:8080/"
        },
        "id": "y81ssrlI-M6U",
        "outputId": "2e66c649-d502-4f31-b4d3-604dc64b3463"
      },
      "execution_count": 23,
      "outputs": [
        {
          "output_type": "stream",
          "name": "stdout",
          "text": [
            "\n",
            "Aksesuar kategorisinde fiyatı 100'den fazla olan aksesuarlar:\n",
            "    Kategori   Ürün  Fiyat\n",
            "6  Aksesuar  Kolye    150\n"
          ]
        }
      ]
    }
  ]
}