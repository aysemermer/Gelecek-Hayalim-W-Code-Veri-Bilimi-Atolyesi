{
  "nbformat": 4,
  "nbformat_minor": 0,
  "metadata": {
    "colab": {
      "provenance": [],
      "authorship_tag": "ABX9TyOIpLEY0ufUnJfaysrtcBu/"
    },
    "kernelspec": {
      "name": "python3",
      "display_name": "Python 3"
    },
    "language_info": {
      "name": "python"
    }
  },
  "cells": [
    {
      "cell_type": "markdown",
      "source": [
        "Ödev 1: Sayılardan oluşan bir boyutlu array oluşturulur. Arrayi oluştururken sayıların veri tipini integer olarak belirtilir. Oluşturulan arrayin boyut, eleman sayısı bilgilerine bakılır."
      ],
      "metadata": {
        "id": "R-zbuADG3vRT"
      }
    },
    {
      "cell_type": "code",
      "source": [
        "import numpy as np"
      ],
      "metadata": {
        "id": "bNTefZcK3yrz"
      },
      "execution_count": 1,
      "outputs": []
    },
    {
      "cell_type": "code",
      "source": [
        "array1 = np.array([1, 2, 3, 4, 5], dtype=int)\n",
        "\n",
        "print(\"Bir boyutlu array:\", array1)\n",
        "print(\"Boyut:\", array1.ndim)\n",
        "print(\"Eleman sayısı:\",array1.size)\n"
      ],
      "metadata": {
        "colab": {
          "base_uri": "https://localhost:8080/"
        },
        "id": "RGWcY1FH4Ii_",
        "outputId": "dd25d3b2-9b61-49b2-bc9a-0bbb23241ab9"
      },
      "execution_count": 2,
      "outputs": [
        {
          "output_type": "stream",
          "name": "stdout",
          "text": [
            "Bir boyutlu array: [1 2 3 4 5]\n",
            "Boyut: 1\n",
            "Eleman sayısı: 5\n"
          ]
        }
      ]
    },
    {
      "cell_type": "markdown",
      "source": [
        "Ödev 2: İki ve üç boyutlu arrayler oluşturulur. Bu arraylerin boyut, eleman sayısı, satır, sütun bilgilerine ulaşılır. Arrayler üzerinde indexleme ve dilimleme(slicing) işlemi yapılır."
      ],
      "metadata": {
        "id": "-KQ5g0-t4U0R"
      }
    },
    {
      "cell_type": "code",
      "source": [
        "array2 = np.array([[1, 2, 3], [4, 5, 6]], dtype=int)\n",
        "\n",
        "print(\"\\nİki boyutlu array:\")\n",
        "print(array2)\n",
        "print(\"\\nBoyut:\", array2.ndim)\n",
        "print(\"Eleman sayısı:\", array2.size)\n",
        "print(\"Satır sayısı:\", array2.shape[0])\n",
        "print(\"Sütun sayısı:\", array2.shape[1])"
      ],
      "metadata": {
        "colab": {
          "base_uri": "https://localhost:8080/"
        },
        "id": "fF_yJ8XT4WiS",
        "outputId": "96a17fb0-4340-43d6-d629-7d6b7085b18d"
      },
      "execution_count": 4,
      "outputs": [
        {
          "output_type": "stream",
          "name": "stdout",
          "text": [
            "\n",
            "İki boyutlu array:\n",
            "[[1 2 3]\n",
            " [4 5 6]]\n",
            "\n",
            "Boyut: 2\n",
            "Eleman sayısı: 6\n",
            "Satır sayısı: 2\n",
            "Sütun sayısı: 3\n"
          ]
        }
      ]
    },
    {
      "cell_type": "code",
      "source": [
        "array3 = np.array([[[1, 2], [3, 4]], [[5, 6], [7, 8]]], dtype=int)\n",
        "\n",
        "print(\"\\nÜç boyutlu array:\\n\", array3)\n",
        "print(\"\\nBoyut:\", array3.ndim)\n",
        "print(\"Eleman sayısı:\", array3.size)\n",
        "print(\"Satır sayısı:\", array3.shape[1])\n",
        "print(\"Sütun sayısı:\", array3.shape[2])\n",
        "print(\"Derinlik sayısı:\", array3.shape[0])"
      ],
      "metadata": {
        "colab": {
          "base_uri": "https://localhost:8080/"
        },
        "id": "v2LFGYJF4vW-",
        "outputId": "a9f44bf4-6593-41f3-d524-d8305854ad57"
      },
      "execution_count": 26,
      "outputs": [
        {
          "output_type": "stream",
          "name": "stdout",
          "text": [
            "\n",
            "Üç boyutlu array:\n",
            " [[[1 2]\n",
            "  [3 4]]\n",
            "\n",
            " [[5 6]\n",
            "  [7 8]]]\n",
            "\n",
            "Boyut: 3\n",
            "Eleman sayısı: 8\n",
            "Satır sayısı: 2\n",
            "Sütun sayısı: 2\n",
            "Derinlik sayısı: 2\n"
          ]
        }
      ]
    },
    {
      "cell_type": "markdown",
      "source": [
        " Ödev 3: Numpy fonksiyonu kullanarak bir, iki ve üç boyutlu arrayler oluşturulur. Arrayler üzerinde indexleme ve dilimleme(slicing) işlemi yapılır"
      ],
      "metadata": {
        "id": "FVvdcPjl5Gwd"
      }
    },
    {
      "cell_type": "code",
      "source": [
        "print(\"İki boyutlu array:\\n\", array2)\n",
        "print(\"\\nİki boyutlu arrayden [1, 2] elemanı:\", array2[1, 2])"
      ],
      "metadata": {
        "colab": {
          "base_uri": "https://localhost:8080/"
        },
        "id": "-K-TZ67n5J7E",
        "outputId": "348b1516-9725-4139-c671-ac796fac5aee"
      },
      "execution_count": 22,
      "outputs": [
        {
          "output_type": "stream",
          "name": "stdout",
          "text": [
            "İki boyutlu array:\n",
            " [[1 2 3]\n",
            " [4 5 6]]\n",
            "\n",
            "İki boyutlu arrayden [1, 2] elemanı: 6\n"
          ]
        }
      ]
    },
    {
      "cell_type": "code",
      "source": [
        "print(\"İki boyutlu array:\\n\", array2)\n",
        "print(\"\\nİki boyutlu array dilimi:\\n\", array2[0:2, 1:3])"
      ],
      "metadata": {
        "colab": {
          "base_uri": "https://localhost:8080/"
        },
        "id": "CzCcVNZW5gYw",
        "outputId": "09061e2a-fb7e-42ae-9fa1-1f2aa271084a"
      },
      "execution_count": 23,
      "outputs": [
        {
          "output_type": "stream",
          "name": "stdout",
          "text": [
            "İki boyutlu array:\n",
            " [[1 2 3]\n",
            " [4 5 6]]\n",
            "\n",
            "İki boyutlu array dilimi:\n",
            " [[2 3]\n",
            " [5 6]]\n"
          ]
        }
      ]
    },
    {
      "cell_type": "code",
      "source": [
        "print(\"Üç boyutlu array:\\n\", array3)\n",
        "print(\"\\nÜç boyutlu arrayden [0, 1, 1] elemanı:\", array3[0, 1, 1])"
      ],
      "metadata": {
        "colab": {
          "base_uri": "https://localhost:8080/"
        },
        "id": "L7-cnGuv5i5s",
        "outputId": "5df55087-f259-46b0-a356-a186bf09ee5a"
      },
      "execution_count": 24,
      "outputs": [
        {
          "output_type": "stream",
          "name": "stdout",
          "text": [
            "Üç boyutlu array:\n",
            " [[[1 2]\n",
            "  [3 4]]\n",
            "\n",
            " [[5 6]\n",
            "  [7 8]]]\n",
            "\n",
            "Üç boyutlu arrayden [0, 1, 1] elemanı: 4\n"
          ]
        }
      ]
    },
    {
      "cell_type": "code",
      "source": [
        "print(\"Üç boyutlu array:\\n\", array3)\n",
        "print(\"\\nÜç boyutlu array dilimi:\\n\", array3[:, 0, :])"
      ],
      "metadata": {
        "colab": {
          "base_uri": "https://localhost:8080/"
        },
        "id": "J_8Ovfjk5rc-",
        "outputId": "3d183991-84b2-4ea6-b79c-2604b2083201"
      },
      "execution_count": 25,
      "outputs": [
        {
          "output_type": "stream",
          "name": "stdout",
          "text": [
            "Üç boyutlu array:\n",
            " [[[1 2]\n",
            "  [3 4]]\n",
            "\n",
            " [[5 6]\n",
            "  [7 8]]]\n",
            "\n",
            "Üç boyutlu array dilimi:\n",
            " [[1 2]\n",
            " [5 6]]\n"
          ]
        }
      ]
    },
    {
      "cell_type": "markdown",
      "source": [
        "Ödev 4:  Sıfırlardan oluşan ve birlerden oluşan iki tane iki boyutlu array oluşturulur. Bu arrayler satır ve sütun bazında birleştirilir."
      ],
      "metadata": {
        "id": "CoR20cOB6VZD"
      }
    },
    {
      "cell_type": "code",
      "source": [
        "array0 = np.zeros((2, 3), dtype=int)\n",
        "print(\"\\nSıfırlardan oluşan array:\\n\", array0)\n",
        "\n",
        "array11 = np.ones((2, 3), dtype=int)\n",
        "print(\"\\nBirlerden oluşan array:\\n\", array11)\n",
        "\n",
        "#satır\n",
        "array_birlesim = np.concatenate((array0, array11), axis=0)\n",
        "print(\"\\nBirleştirilmiş arrayler -satır olarak:\\n\", array_birlesim)\n",
        "\n",
        "#sütün\n",
        "array_birlesim_sutun = np.concatenate((array0, array11), axis=1)\n",
        "print(\"\\nBirleştirilmiş arrayler -sütun olarak:\\n\", array_birlesim_sutun)"
      ],
      "metadata": {
        "colab": {
          "base_uri": "https://localhost:8080/"
        },
        "id": "eU_Tj-6_6XfK",
        "outputId": "9a5af97f-4688-4e7c-d940-bd6cb841ab98"
      },
      "execution_count": 31,
      "outputs": [
        {
          "output_type": "stream",
          "name": "stdout",
          "text": [
            "\n",
            "Sıfırlardan oluşan array:\n",
            " [[0 0 0]\n",
            " [0 0 0]]\n",
            "\n",
            "Birlerden oluşan array:\n",
            " [[1 1 1]\n",
            " [1 1 1]]\n",
            "\n",
            "Birleştirilmiş arrayler -satır olarak:\n",
            " [[0 0 0]\n",
            " [0 0 0]\n",
            " [1 1 1]\n",
            " [1 1 1]]\n",
            "\n",
            "Birleştirilmiş arrayler -sütun olarak:\n",
            " [[0 0 0 1 1 1]\n",
            " [0 0 0 1 1 1]]\n"
          ]
        }
      ]
    }
  ]
}