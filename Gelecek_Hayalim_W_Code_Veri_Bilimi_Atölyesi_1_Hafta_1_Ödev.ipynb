{
  "nbformat": 4,
  "nbformat_minor": 0,
  "metadata": {
    "colab": {
      "provenance": [],
      "authorship_tag": "ABX9TyOosnPm6oWWfAkF70/CpE1M"
    },
    "kernelspec": {
      "name": "python3",
      "display_name": "Python 3"
    },
    "language_info": {
      "name": "python"
    }
  },
  "cells": [
    {
      "cell_type": "markdown",
      "source": [
        "\n",
        "Ödev-1: Değişkenlere atanmış değerlerin veri tipleri arasında dönüşüm yapılır.\n",
        "\n"
      ],
      "metadata": {
        "id": "TQzM3bP9Rbny"
      }
    },
    {
      "cell_type": "code",
      "source": [
        "# String'i integer'a dönüştürme\n",
        "sayi_str = \"100\"\n",
        "sayi_int = int(sayi_str)\n",
        "print(sayi_int)\n",
        "\n",
        "# Integer'ı float'a dönüştürme\n",
        "sayi_float = float(sayi_int)\n",
        "print(sayi_float)\n",
        "\n",
        "# Boolean'ı string'e dönüştürme\n",
        "durum = False\n",
        "durum_str = str(durum)\n",
        "print(durum_str)\n",
        "\n",
        "# Float'ı integer'a dönüştürme\n",
        "ondalikli_sayi = 25.75\n",
        "ondalikli_int = int(ondalikli_sayi)\n",
        "print(ondalikli_int)"
      ],
      "metadata": {
        "colab": {
          "base_uri": "https://localhost:8080/"
        },
        "id": "k2VPZoJrRegh",
        "outputId": "676ec7fd-173f-4bb2-b82b-c21cc7182b1b"
      },
      "execution_count": null,
      "outputs": [
        {
          "output_type": "stream",
          "name": "stdout",
          "text": [
            "100\n",
            "100.0\n",
            "False\n",
            "25\n"
          ]
        }
      ]
    },
    {
      "cell_type": "markdown",
      "source": [
        "Ödev-2: İsimlerden oluşan üç değişkene yaş değerleri atanır. Belirlenen üç değişken birbiriyle karşılaştırma operatörleri ile karşılaştırılır. Bu karşılaştırmalara mantıksal operatörler de eklenir."
      ],
      "metadata": {
        "id": "1-sOuI3jSCTr"
      }
    },
    {
      "cell_type": "code",
      "source": [
        "baris = 25\n",
        "ayse = 24\n",
        "kerem = 26\n",
        "\n",
        "# Karşılaştırma operatörleri kullanarak\n",
        "print(\"Barış Ayşe'den genç mi?:\", baris < ayse)\n",
        "print(\"Kerem Barış'tan büyük mü?:\", kerem > baris)\n",
        "print(\"Ayşe ile Kerem'in yaşları eşit mi?:\", ayse == kerem)\n",
        "\n",
        "# Mantıksal operatörler kullanılarak\n",
        "print(\"Barış, Kerem'den büyük ve Ayşe'den küçük mü?:\", (baris> kerem) and (baris < ayse))\n",
        "print(\"Ayşe ya Kerem'den ya da Barış'tan büyük mü?:\", (ayse> kerem) or (ayse > baris))\n",
        "print(\"Kerem'in yaşı Barış'ın yaşına eşit değil mi?:\", not (kerem == baris))"
      ],
      "metadata": {
        "colab": {
          "base_uri": "https://localhost:8080/"
        },
        "id": "iRH4xb8nSEoh",
        "outputId": "859a050d-2944-44e0-c6e7-c803bb2409e4"
      },
      "execution_count": null,
      "outputs": [
        {
          "output_type": "stream",
          "name": "stdout",
          "text": [
            "Barış Ayşe'den genç mi?: False\n",
            "Kerem Barış'tan büyük mü?: True\n",
            "Ayşe ile Kerem'in yaşları eşit mi?: False\n",
            "Barış, Kerem'den büyük ve Ayşe'den küçük mü?: False\n",
            "Ayşe ya Kerem'den ya da Barış'tan büyük mü?: False\n",
            "Kerem'in yaşı Barış'ın yaşına eşit değil mi?: True\n"
          ]
        }
      ]
    },
    {
      "cell_type": "markdown",
      "source": [
        "Ödev-3: Kullanıcıdan iki değer girmesini istenir. Girilen değerlerin toplama, çıkarma, çarpma, bölme sonuçlarını yazdırılır. (input)"
      ],
      "metadata": {
        "id": "DoB7jKcSTjen"
      }
    },
    {
      "cell_type": "code",
      "source": [
        "x = int(input(\"Birinci sayıyı girin: \"))\n",
        "y = int(input(\"İkinci sayıyı girin: \"))\n",
        "\n",
        "# Toplama\n",
        "toplam = x + y\n",
        "print(\"Toplama işlemi sonucu:\", toplam)\n",
        "\n",
        "# Çıkarma\n",
        "cikarma = x - y\n",
        "print(\"Çıkarma işlemi sonucu:\", cikarma)\n",
        "\n",
        "# Çarpma\n",
        "carpma = x * y\n",
        "print(\"Çarpma işlemi sonucu:\", carpma)\n",
        "\n",
        "# Bölme\n",
        "bolme = x / y\n",
        "print(\"Bölme işlemi sonucu:\", bolme)"
      ],
      "metadata": {
        "colab": {
          "base_uri": "https://localhost:8080/"
        },
        "id": "lneGr_uvTmUF",
        "outputId": "78bacdd6-11e2-419d-f76e-f589043560c0"
      },
      "execution_count": null,
      "outputs": [
        {
          "output_type": "stream",
          "name": "stdout",
          "text": [
            "Birinci sayıyı girin: 10\n",
            "İkinci sayıyı girin: 2\n",
            "Toplama işlemi sonucu: 12\n",
            "Çıkarma işlemi sonucu: 8\n",
            "Çarpma işlemi sonucu: 20\n",
            "Bölme işlemi sonucu: 5.0\n"
          ]
        }
      ]
    },
    {
      "cell_type": "markdown",
      "source": [
        "Ödev-4: Kullanıcıdan isim, yaş, şehir ve meslek bilgilerini istenir ve cevaplarını yazdırılır."
      ],
      "metadata": {
        "id": "81UXY74MUXm8"
      }
    },
    {
      "cell_type": "code",
      "source": [
        "isim = input(\"İsminizi girin: \")\n",
        "yas = input(\"Yaşınızı girin: \")\n",
        "sehir = input(\"Yaşadığınız şehri girin: \")\n",
        "meslek = input(\"Güncel mesleğinizi girin: \")\n",
        "\n",
        "# Alınan cevapları yazma;\n",
        "print(\"\\nMerhaba, \" + isim + \" işte bilgileriniz!\")\n",
        "print(\"İsim:\", isim)\n",
        "print(\"Yaş:\", yas)\n",
        "print(\"Şehir:\", sehir)\n",
        "print(\"Meslek:\", meslek)"
      ],
      "metadata": {
        "colab": {
          "base_uri": "https://localhost:8080/"
        },
        "id": "egA4vwoYUXAx",
        "outputId": "e0145fb7-8a17-4d54-d25a-1c40456f1e8f"
      },
      "execution_count": null,
      "outputs": [
        {
          "output_type": "stream",
          "name": "stdout",
          "text": [
            "İsminizi girin: Ayşe\n",
            "Yaşınızı girin: 24\n",
            "Yaşadığınız şehri girin: Ankara\n",
            "Güncel mesleğinizi girin: Yok.\n",
            "\n",
            "Merhaba, Ayşe işte bilgileriniz!\n",
            "İsim: Ayşe\n",
            "Yaş: 24\n",
            "Şehir: Ankara\n",
            "Meslek: Yok.\n"
          ]
        }
      ]
    },
    {
      "cell_type": "markdown",
      "source": [
        "Ödev-5: \"Gelecek Hayalim: W-Code Veri Bilimi Atölyesi\" ifadesini bir değişkene tanımlanır.\n",
        "\n",
        "İfadedeki her bir kelimeyi (\"Gelecek Hayalim: W-Code\", \"Veri\", \"Bilimi\", \"Atölyesi\") değişken içinden seçilir.\n",
        "\n",
        "İfadeyi hepsini büyük harf olacak hale çevrilir. (\"GELECEK HAYALİM: W-CODE VERİ BİLİMİ ATÖLYESİ\")\n",
        "\n",
        "İfadeyi hepsini büyük harf olacak hale çevrilir.(\"gelecek hayalim: w-code veri bilimi atölyesi\")\n",
        "\n",
        "\"0123456789\" ifadesindeki yalnızca çift sayıları ve yalnızca tek sayıları seçilir. (\"02468\", \"13579\")"
      ],
      "metadata": {
        "id": "lZZP7jd6VgKf"
      }
    },
    {
      "cell_type": "code",
      "source": [
        "degisken = \"Gelecek Hayalim: W-Code Veri Bilimi Atölyesi\"\n",
        "#İndeks:   0  1  2  3  4  5  6  7  8  9  10 11 12 13 14 15 16  17 18 19 20 21 22 23 24 25 26 27 28 29 30 31 32 33 34 35 36 37 38 39 40 41 42 43\n",
        "#Karakter: G  e  l  e  c  e  k     H  a  y  a  l  i  m  :      W  -  C  o  d  e     V  e  r  i     B  i  l  i  m  i     A  t  ö  l  y  e  s  i\n",
        "\n",
        "kelime1 = degisken[:23]   # \"Gelecek Hayalim: W-Code\"\n",
        "kelime2 = degisken[24:28] # \"Veri\"\n",
        "kelime3 = degisken[29:35] # \"Bilimi\"\n",
        "kelime4 = degisken[36:]   # \"Atölyesi\"\n",
        "\n",
        "print(\"Birinci kelime:\", kelime1)\n",
        "print(\"İkinci kelime:\", kelime2)\n",
        "print(\"Üçüncü kelime:\", kelime3)\n",
        "print(\"Dördüncü kelime:\", kelime4)\n",
        "\n",
        "print(\"------------------------------------------------------------------\")\n",
        "\n",
        "degisken_buyuk = degisken.upper()\n",
        "print(\"Tamamen büyük harf:\", degisken_buyuk)\n",
        "\n",
        "print(\"------------------------------------------------------------------\")\n",
        "\n",
        "degisken_kucuk = degisken.lower()\n",
        "print(\"Tamamen küçük harf:\", degisken_kucuk)\n",
        "\n",
        "print(\"------------------------------------------------------------------\")\n",
        "# \"0123456789\" ifadesindeki çift ve tek sayıları seçme\n",
        "sayilar = \"0123456789\"\n",
        "cift_sayilar = sayilar[0::2]\n",
        "tek_sayilar = sayilar[1::2]\n",
        "\n",
        "print(\"Çift sayılar:\", cift_sayilar)\n",
        "print(\"Tek sayılar:\", tek_sayilar)"
      ],
      "metadata": {
        "colab": {
          "base_uri": "https://localhost:8080/"
        },
        "id": "9ZjJVunHVnu4",
        "outputId": "2a21d5f1-ed7b-4125-ec93-2ad94a9c7fef"
      },
      "execution_count": null,
      "outputs": [
        {
          "output_type": "stream",
          "name": "stdout",
          "text": [
            "Birinci kelime: Gelecek Hayalim: W-Code\n",
            "İkinci kelime: Veri\n",
            "Üçüncü kelime: Bilimi\n",
            "Dördüncü kelime: Atölyesi\n",
            "------------------------------------------------------------------\n",
            "Tamamen büyük harf: GELECEK HAYALIM: W-CODE VERI BILIMI ATÖLYESI\n",
            "------------------------------------------------------------------\n",
            "Tamamen küçük harf: gelecek hayalim: w-code veri bilimi atölyesi\n",
            "------------------------------------------------------------------\n",
            "Çift sayılar: 02468\n",
            "Tek sayılar: 13579\n"
          ]
        }
      ]
    }
  ]
}